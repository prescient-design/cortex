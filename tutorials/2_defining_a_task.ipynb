{
 "cells": [
  {
   "cell_type": "markdown",
   "metadata": {},
   "source": [
    "## Defining a Task\n",
    "\n",
    "In the last tutorial we learned the basic structure of a `NeuralTree`. In this section we will explore `Task` objects, which define the interface\n",
    "between a `NeuralTree` and the datasets we will use to train it."
   ]
  },
  {
   "cell_type": "markdown",
   "metadata": {},
   "source": [
    "### A Dataset\n",
    "\n",
    "Every task starts with a dataset. In this example we will use the GFP fluorescence dataset (TODO add link)."
   ]
  },
  {
   "cell_type": "code",
   "execution_count": null,
   "metadata": {},
   "outputs": [],
   "source": [
    "from cortex.data.dataset import TAPEFluorescenceDataset\n",
    "\n",
    "dataset = TAPEFluorescenceDataset(\n",
    "    root='./.cache',\n",
    "    download=True,\n",
    "    train=True,\n",
    ")\n",
    "dataset[0]"
   ]
  },
  {
   "cell_type": "markdown",
   "metadata": {},
   "source": [
    "### A Task Data Module\n",
    "\n",
    "The `cortex` package uses the `lightning` package to handle data loading and distributed training. \n",
    "The `TaskDataModule` subclasses `lightning.DataModule`."
   ]
  },
  {
   "cell_type": "code",
   "execution_count": null,
   "metadata": {},
   "outputs": [],
   "source": [
    "from cortex.data.data_module import TaskDataModule\n",
    "from omegaconf import DictConfig\n",
    "\n",
    "dataset_cfg = DictConfig(\n",
    "    {\n",
    "        '_target_': 'cortex.data.dataset.TAPEFluorescenceDataset',\n",
    "        'root': './.cache',\n",
    "        'download': True,\n",
    "        'train': \"???\"\n",
    "    }\n",
    ")\n",
    "\n",
    "data_module = TaskDataModule(\n",
    "    batch_size=2,\n",
    "    dataset_config=dataset_cfg,\n",
    ")\n",
    "\n",
    "train_loader = data_module.train_dataloader()\n",
    "batch = next(iter(train_loader))\n",
    "print(batch)"
   ]
  },
  {
   "cell_type": "markdown",
   "metadata": {},
   "source": [
    "### A Task object\n",
    "\n",
    "A task object in `cortex` determines how a batch of data from a dataloader is passed to a `NeuralTree` during training."
   ]
  },
  {
   "cell_type": "code",
   "execution_count": null,
   "metadata": {},
   "outputs": [],
   "source": [
    "from cortex.task import RegressionTask\n",
    "\n",
    "task = RegressionTask(\n",
    "    data_module=data_module,\n",
    "    input_map={\"protein_seq\": [\"tokenized_seq\"]},  # {root_key: [input_key]}\n",
    "    outcome_cols=[\"log_fluorescence\"],  # [*target_keys]\n",
    "    leaf_key=\"log_fluorescence_0\"  # name of leaf node\n",
    ")\n",
    "\n",
    "formatted_batch = task.format_batch(batch)\n",
    "print(formatted_batch)"
   ]
  },
  {
   "cell_type": "markdown",
   "metadata": {},
   "source": [
    "## Usage\n",
    "\n",
    "Now we will instantiate the a `NeuralTree` similar to the last tutorial, however we will use Hydra to simplify the instantiation."
   ]
  },
  {
   "cell_type": "code",
   "execution_count": null,
   "metadata": {},
   "outputs": [],
   "source": [
    "import hydra\n",
    "from omegaconf import OmegaConf\n",
    "\n",
    "with hydra.initialize(config_path=\"./hydra\"):\n",
    "    cfg = hydra.compose(config_name=\"2_defining_a_task\")\n",
    "    OmegaConf.set_struct(cfg, False)\n",
    "\n",
    "tree = hydra.utils.instantiate(cfg.tree)\n",
    "tree.build_tree(cfg)\n",
    "tree"
   ]
  },
  {
   "cell_type": "code",
   "execution_count": null,
   "metadata": {},
   "outputs": [],
   "source": [
    "tree_output = tree(formatted_batch[\"root_inputs\"])\n",
    "tree_output.leaf_outputs[\"log_fluorescence_0\"].loc"
   ]
  },
  {
   "cell_type": "markdown",
   "metadata": {},
   "source": [
    "### Computing a task loss"
   ]
  },
  {
   "cell_type": "code",
   "execution_count": null,
   "metadata": {},
   "outputs": [],
   "source": [
    "leaf_key = \"log_fluorescence_0\"\n",
    "leaf_node = tree.leaf_nodes[leaf_key]\n",
    "\n",
    "loss = leaf_node.loss(\n",
    "    leaf_outputs=tree_output.leaf_outputs[leaf_key],\n",
    "    root_outputs=tree_output.root_outputs[\"protein_seq\"],\n",
    "    **formatted_batch[\"leaf_targets\"][leaf_key]\n",
    ")\n",
    "print(loss)"
   ]
  },
  {
   "cell_type": "markdown",
   "metadata": {},
   "source": [
    "### Evaluating task output"
   ]
  },
  {
   "cell_type": "code",
   "execution_count": null,
   "metadata": {},
   "outputs": [],
   "source": [
    "leaf_node.evaluate(\n",
    "    outputs=tree_output.leaf_outputs[leaf_key],\n",
    "    **formatted_batch[\"leaf_targets\"][leaf_key]\n",
    ")"
   ]
  },
  {
   "cell_type": "code",
   "execution_count": null,
   "metadata": {},
   "outputs": [],
   "source": []
  }
 ],
 "metadata": {
  "kernelspec": {
   "display_name": "cortex-public",
   "language": "python",
   "name": "python3"
  },
  "language_info": {
   "codemirror_mode": {
    "name": "ipython",
    "version": 3
   },
   "file_extension": ".py",
   "mimetype": "text/x-python",
   "name": "python",
   "nbconvert_exporter": "python",
   "pygments_lexer": "ipython3",
   "version": "3.10.13"
  }
 },
 "nbformat": 4,
 "nbformat_minor": 2
}
